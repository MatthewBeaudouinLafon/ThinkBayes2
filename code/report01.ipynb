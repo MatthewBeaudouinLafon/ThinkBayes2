{
 "cells": [
  {
   "cell_type": "code",
   "execution_count": 12,
   "metadata": {
    "collapsed": false
   },
   "outputs": [],
   "source": [
    "from __future__ import print_function, division\n",
    "from thinkbayes2 import Pmf, Suite\n",
    "import thinkplot"
   ]
  },
  {
   "cell_type": "markdown",
   "metadata": {},
   "source": [
    "# Cookie Problem ++\n",
    "With no replacement"
   ]
  },
  {
   "cell_type": "code",
   "execution_count": 13,
   "metadata": {
    "collapsed": false,
    "scrolled": true
   },
   "outputs": [
    {
     "name": "stdout",
     "output_type": "stream",
     "text": [
      "{'B1': {'vanilla': 3, 'chocolate': 0}, 'B2': {'vanilla': 2, 'chocolate': 1}}\n",
      "B1 0.333333333333\n",
      "B2 0.666666666667\n",
      "{'B1': {'vanilla': 3, 'chocolate': 0}, 'B2': {'vanilla': 2, 'chocolate': 0}}\n",
      "B1 0.0\n",
      "B2 1.0\n"
     ]
    },
    {
     "ename": "ValueError",
     "evalue": "Normalize: total probability is zero.",
     "output_type": "error",
     "traceback": [
      "\u001b[1;31m---------------------------------------------------------------------------\u001b[0m",
      "\u001b[1;31mValueError\u001b[0m                                Traceback (most recent call last)",
      "\u001b[1;32m<ipython-input-13-a6c2e5583ca2>\u001b[0m in \u001b[0;36m<module>\u001b[1;34m()\u001b[0m\n\u001b[0;32m     29\u001b[0m \u001b[0mcookies\u001b[0m\u001b[1;33m.\u001b[0m\u001b[0mPrint\u001b[0m\u001b[1;33m(\u001b[0m\u001b[1;33m)\u001b[0m\u001b[1;33m\u001b[0m\u001b[0m\n\u001b[0;32m     30\u001b[0m \u001b[1;33m\u001b[0m\u001b[0m\n\u001b[1;32m---> 31\u001b[1;33m \u001b[0mcookies\u001b[0m\u001b[1;33m.\u001b[0m\u001b[0mUpdate\u001b[0m\u001b[1;33m(\u001b[0m\u001b[1;34m'chocolate'\u001b[0m\u001b[1;33m)\u001b[0m \u001b[1;31m# This makes things break but I don't understand why.\u001b[0m\u001b[1;33m\u001b[0m\u001b[0m\n\u001b[0m\u001b[0;32m     32\u001b[0m \u001b[1;32mprint\u001b[0m\u001b[1;33m(\u001b[0m\u001b[0mcookies\u001b[0m\u001b[1;33m.\u001b[0m\u001b[0mmixes\u001b[0m\u001b[1;33m)\u001b[0m        \u001b[1;31m# When taking a non existing chocolate cookie, the probability should stick to 0.\u001b[0m\u001b[1;33m\u001b[0m\u001b[0m\n\u001b[0;32m     33\u001b[0m \u001b[0mcookies\u001b[0m\u001b[1;33m.\u001b[0m\u001b[0mPrint\u001b[0m\u001b[1;33m(\u001b[0m\u001b[1;33m)\u001b[0m\u001b[1;33m\u001b[0m\u001b[0m\n",
      "\u001b[1;32m/home/mattbeaudouin/compBayes/ThinkBayes2/code/thinkbayes2.pyc\u001b[0m in \u001b[0;36mUpdate\u001b[1;34m(self, data)\u001b[0m\n\u001b[0;32m   1376\u001b[0m             \u001b[0mlike\u001b[0m \u001b[1;33m=\u001b[0m \u001b[0mself\u001b[0m\u001b[1;33m.\u001b[0m\u001b[0mLikelihood\u001b[0m\u001b[1;33m(\u001b[0m\u001b[0mdata\u001b[0m\u001b[1;33m,\u001b[0m \u001b[0mhypo\u001b[0m\u001b[1;33m)\u001b[0m\u001b[1;33m\u001b[0m\u001b[0m\n\u001b[0;32m   1377\u001b[0m             \u001b[0mself\u001b[0m\u001b[1;33m.\u001b[0m\u001b[0mMult\u001b[0m\u001b[1;33m(\u001b[0m\u001b[0mhypo\u001b[0m\u001b[1;33m,\u001b[0m \u001b[0mlike\u001b[0m\u001b[1;33m)\u001b[0m\u001b[1;33m\u001b[0m\u001b[0m\n\u001b[1;32m-> 1378\u001b[1;33m         \u001b[1;32mreturn\u001b[0m \u001b[0mself\u001b[0m\u001b[1;33m.\u001b[0m\u001b[0mNormalize\u001b[0m\u001b[1;33m(\u001b[0m\u001b[1;33m)\u001b[0m\u001b[1;33m\u001b[0m\u001b[0m\n\u001b[0m\u001b[0;32m   1379\u001b[0m \u001b[1;33m\u001b[0m\u001b[0m\n\u001b[0;32m   1380\u001b[0m     \u001b[1;32mdef\u001b[0m \u001b[0mLogUpdate\u001b[0m\u001b[1;33m(\u001b[0m\u001b[0mself\u001b[0m\u001b[1;33m,\u001b[0m \u001b[0mdata\u001b[0m\u001b[1;33m)\u001b[0m\u001b[1;33m:\u001b[0m\u001b[1;33m\u001b[0m\u001b[0m\n",
      "\u001b[1;32m/home/mattbeaudouin/compBayes/ThinkBayes2/code/thinkbayes2.pyc\u001b[0m in \u001b[0;36mNormalize\u001b[1;34m(self, fraction)\u001b[0m\n\u001b[0;32m    516\u001b[0m         \u001b[0mtotal\u001b[0m \u001b[1;33m=\u001b[0m \u001b[0mself\u001b[0m\u001b[1;33m.\u001b[0m\u001b[0mTotal\u001b[0m\u001b[1;33m(\u001b[0m\u001b[1;33m)\u001b[0m\u001b[1;33m\u001b[0m\u001b[0m\n\u001b[0;32m    517\u001b[0m         \u001b[1;32mif\u001b[0m \u001b[0mtotal\u001b[0m \u001b[1;33m==\u001b[0m \u001b[1;36m0\u001b[0m\u001b[1;33m:\u001b[0m\u001b[1;33m\u001b[0m\u001b[0m\n\u001b[1;32m--> 518\u001b[1;33m             \u001b[1;32mraise\u001b[0m \u001b[0mValueError\u001b[0m\u001b[1;33m(\u001b[0m\u001b[1;34m'Normalize: total probability is zero.'\u001b[0m\u001b[1;33m)\u001b[0m\u001b[1;33m\u001b[0m\u001b[0m\n\u001b[0m\u001b[0;32m    519\u001b[0m \u001b[1;33m\u001b[0m\u001b[0m\n\u001b[0;32m    520\u001b[0m         \u001b[0mfactor\u001b[0m \u001b[1;33m=\u001b[0m \u001b[0mfraction\u001b[0m \u001b[1;33m/\u001b[0m \u001b[0mtotal\u001b[0m\u001b[1;33m\u001b[0m\u001b[0m\n",
      "\u001b[1;31mValueError\u001b[0m: Normalize: total probability is zero."
     ]
    }
   ],
   "source": [
    "class Cookies(Suite):\n",
    "    mixes = {'B1' :\n",
    "                {'vanilla' : 3,\n",
    "                'chocolate' : 1},\n",
    "            'B2' : \n",
    "                {'vanilla' : 2,\n",
    "                'chocolate' : 2}}\n",
    "    def Likelihood(self, data, hypo):\n",
    "        prob = self.mixes[hypo][data]\n",
    "        \n",
    "        totalCookies = 0\n",
    "        for flavor in self.mixes[hypo]:\n",
    "            totalCookies += self.mixes[hypo][flavor]\n",
    "            \n",
    "        if self.mixes[hypo][data] != 0:\n",
    "            self.mixes[hypo][data] -= 1\n",
    "            totalCookies -= 1\n",
    "        \n",
    "        return prob / totalCookies\n",
    "    \n",
    "cookies = Cookies(['B1', 'B2'])\n",
    "\n",
    "cookies.Update('chocolate') \n",
    "print(cookies.mixes)\n",
    "cookies.Print()\n",
    "\n",
    "cookies.Update('chocolate') \n",
    "print(cookies.mixes)\n",
    "cookies.Print()\n",
    "\n",
    "cookies.Update('chocolate') # This makes things break but I don't understand why.\n",
    "print(cookies.mixes)        # When taking a non existing chocolate cookie, the probability should stick to 0.\n",
    "cookies.Print()"
   ]
  },
  {
   "cell_type": "markdown",
   "metadata": {},
   "source": [
    "# Elvis Problem\n",
    "\n",
    "Elvis Presley had a twin brother who died at birth.  What is the probability that Elvis was an identical twin?\n",
    "\n",
    "To answer this one, you need some background information: According to the Wikipedia article on twins:  ``Twins are estimated to be approximately 1.9% of the world population, with monozygotic twins making up 0.2% of the total---and 8% of all twins.''"
   ]
  },
  {
   "cell_type": "code",
   "execution_count": 14,
   "metadata": {
    "collapsed": false
   },
   "outputs": [],
   "source": [
    "class Pelvis(Suite):\n",
    "    \n",
    "    def Likelihood(self, data, hypo):\n",
    "        if hypo == 'monozygotic twin':\n",
    "            if data == 'brother':\n",
    "                return 1\n",
    "            else:       # data == 'sister'\n",
    "                return 0\n",
    "        else: # if hypo == 'boring twin':\n",
    "            if data == 'brother':\n",
    "                return 0.5\n",
    "            else:       # data == 'sister'\n",
    "                return 0.5"
   ]
  },
  {
   "cell_type": "code",
   "execution_count": 15,
   "metadata": {
    "collapsed": false
   },
   "outputs": [
    {
     "name": "stdout",
     "output_type": "stream",
     "text": [
      "boring twin 0.589743589744\n",
      "monozygotic twin 0.410256410256\n"
     ]
    }
   ],
   "source": [
    "elvis = Pelvis(['monozygotic twin', 'boring twin'])\n",
    "elvis['monozygotic twin'] *= 8\n",
    "elvis['boring twin'] *= 92\n",
    "\n",
    "for i in range(3):          # I'm glad this is just hypothetical\n",
    "    elvis.Update('brother')\n",
    "\n",
    "#elvis.Update('sister')    \n",
    "elvis.Print()"
   ]
  },
  {
   "cell_type": "code",
   "execution_count": 16,
   "metadata": {
    "collapsed": false
   },
   "outputs": [
    {
     "name": "stdout",
     "output_type": "stream",
     "text": [
      "boring twin 0.418181818182\n",
      "monozygotic twin 0.581818181818\n",
      "It took 4 brothers\n"
     ]
    }
   ],
   "source": [
    "elvis = Pelvis(['monozygotic twin', 'boring twin'])\n",
    "elvis['monozygotic twin'] *= 8\n",
    "elvis['boring twin'] *= 92\n",
    "elvis.Normalize()\n",
    "\n",
    "numBrothers = 0\n",
    "while elvis['monozygotic twin'] < 0.5:          # I'm glad this is just hypothetical\n",
    "    elvis.Update('brother')\n",
    "    numBrothers += 1\n",
    "\n",
    "#elvis.Update('sister')    \n",
    "elvis.Print()\n",
    "print('It took ' + str(numBrothers) + ' brothers')"
   ]
  },
  {
   "cell_type": "markdown",
   "metadata": {},
   "source": [
    "Notes:\n",
    "    Even with four twin brothers, it's not that much more likely that Elvis was monozygotic (58%). \n",
    "    This while loop is also an interesting way to test how much data you would need to make a decision.\n",
    "    Also, throwing a sister in the loop makes the hypotheses 0 and 1 for monozygotic and boring twins respectively, which is exactly what you would expect"
   ]
  },
  {
   "cell_type": "markdown",
   "metadata": {},
   "source": [
    "# Smoker Problem\n",
    "\n",
    "According to the CDC, ``Compared to nonsmokers, men who smoke are about 23 times more likely to develop lung cancer and women who smoke are about 13 times more likely.''\n",
    "If you learn that a woman has been diagnosed with lung cancer, and you know nothing else about her, what is the probability that she is a smoker?\n",
    "\n",
    "According to http://kff.org/other/state-indicator/smoking-adults-by-gender/?currentTimeframe=0&selectedDistributions=female&selectedRows=%7B%22wrapups%22:%7B%22united-states%22:%7B%7D%7D%7D&sortModel=%7B%22colId%22:%22Location%22,%22sort%22:%22asc%22%7D\n",
    "15.3% of women smoke in the US.\n",
    "\n",
    "According to http://www.tabac-info-service.fr/Vos-questions-Nos-reponses/Chiffres-du-tabac\n",
    "28% of women smoke in France.\n",
    "36% of men in France. (sigh)"
   ]
  },
  {
   "cell_type": "code",
   "execution_count": 17,
   "metadata": {
    "collapsed": false
   },
   "outputs": [
    {
     "name": "stdout",
     "output_type": "stream",
     "text": [
      "non-smoker 0.165137614679\n",
      "smoker 0.834862385321\n"
     ]
    }
   ],
   "source": [
    "class Smokers(Suite):\n",
    "    def Likelihood(self, data, hypo):\n",
    "        if hypo == 'smoker':\n",
    "            if data == 'cancer':\n",
    "                return 13\n",
    "            else: # no cancer\n",
    "                return 1\n",
    "        else: #Not smoker\n",
    "            return 1\n",
    "        \n",
    "smokers = Smokers(['smoker', 'non-smoker'])\n",
    "smokers['smoker'] *= 28\n",
    "smokers['non-smoker'] *= 72\n",
    "\n",
    "smokers.Update('cancer')\n",
    "\n",
    "smokers.Print()"
   ]
  },
  {
   "cell_type": "code",
   "execution_count": 18,
   "metadata": {
    "collapsed": false
   },
   "outputs": [
    {
     "name": "stdout",
     "output_type": "stream",
     "text": [
      "NM 0.0481927710843\n",
      "NW 0.0542168674699\n",
      "SM 0.623493975904\n",
      "SW 0.274096385542\n"
     ]
    }
   ],
   "source": [
    "# What if we only know it's a person with cancer? We can hypothesize whether it's a man or a woman.\n",
    "\n",
    "class Smokers2(Suite):\n",
    "    def Likelihood(self, data, hypo):\n",
    "        if data == 'cancer':\n",
    "            like = {'SM' : 23, 'SW' : 13, 'NM' : 1, 'NW' : 1}\n",
    "            return like[hypo]\n",
    "        else:\n",
    "            return 1\n",
    "\n",
    "proportionOfWomen = 0.28\n",
    "proportionOfMen = 0.36\n",
    "        \n",
    "smokers = Smokers2(['SM', 'SW', 'NM', 'NW']) # Smoker (Man, Woman), non-Smoker(Man, Woman)\n",
    "# The actual portion of men who smoke is proportionOfMen/2, but since that factor is applied to all hypotheses, \n",
    "# normalization will take care of it\n",
    "smokers['SM'] *= proportionOfMen\n",
    "smokers['SW'] *= proportionOfWomen\n",
    "smokers['NM'] *= 1 - proportionOfMen\n",
    "smokers['NW'] *= 1 - proportionOfWomen\n",
    "\n",
    "smokers.Update('cancer')\n",
    "smokers.Print()\n"
   ]
  },
  {
   "cell_type": "markdown",
   "metadata": {},
   "source": [
    "Not knowing the probability of getting lung cancer slightly threw me off in terms of implementing the code for it; I was getting tripped up by the extra variable lying around.\n",
    "Doing it by hand made me realize how it cancelled out through normalizing, so that helped. It also reminded me being introduced to Bayes Theorem as 'flipping the probability tree', which is basically what this problem is about.\n",
    "\n",
    "![Table based solution of the Smoker Problem](Images/smokerProblem.JPG)"
   ]
  },
  {
   "cell_type": "markdown",
   "metadata": {},
   "source": [
    "# Card Problem\n",
    "\n",
    "I have taken a certain number of cards from a deck of cards. You can take a card, look at it, and place it back randomly.\n",
    "How many cards are left?"
   ]
  },
  {
   "cell_type": "code",
   "execution_count": 19,
   "metadata": {
    "collapsed": true
   },
   "outputs": [],
   "source": [
    "import random"
   ]
  },
  {
   "cell_type": "code",
   "execution_count": 54,
   "metadata": {
    "collapsed": false
   },
   "outputs": [
    {
     "name": "stdout",
     "output_type": "stream",
     "text": [
      "Cards seen:\n",
      "[32, 19, 38]\n",
      "You probably took 47.1148040987 cards out\n"
     ]
    }
   ],
   "source": [
    "class Cards(Suite):\n",
    "    seenCards = {}\n",
    "    numSeenCards = 0\n",
    "    \n",
    "    def Likelihood(self, data, hypo):\n",
    "        if 0 < self.seenCards.get(data): \n",
    "            self.seenCards[data] += 1\n",
    "        else:\n",
    "            self.numSeenCards += 1\n",
    "            self.seenCards[data] = 1\n",
    "        \n",
    "        if hypo < self.numSeenCards:\n",
    "            return 0\n",
    "        else:\n",
    "            return (1 / hypo)\n",
    "        \n",
    "\n",
    "deck = range(52)\n",
    "for removedCard in [13, 9, 46]:\n",
    "    del deck[removedCard]\n",
    "\n",
    "cards = Cards(range(52)) # Hypothesis: How many cards are left\n",
    "cards.deck = deck\n",
    "\n",
    "seenCards = []\n",
    "numTrials = 3\n",
    "for i in range(numTrials):\n",
    "    positionInDeck = random.randint(0, len(deck)-1)\n",
    "    seenCards.append(deck[positionInDeck])\n",
    "    cards.Update(deck[positionInDeck])\n",
    "\n",
    "print('Cards seen:')\n",
    "print(seenCards)\n",
    "print('You probably took ' + str(52 - cards.Mean()) + ' cards out')"
   ]
  },
  {
   "cell_type": "markdown",
   "metadata": {},
   "source": [
    "This is just a tank problem in disguise (more of a thin veil really). The slight trickiness is that either you need to think of it as how many cards are left, or adapt the likelihood function to take it into account. \n",
    "\n",
    "It took me a while to figure this one out, because I was hooked on thinking about how much information you get from seeing a duplicate (which explains why I'm keeping track of more than just the cards I've seen in that dictionary). \n",
    "However, looking at this solution and a few examples, I realize that the duplicity of cards is absolutely where the information is at. When you start seeing cards over and over, that means you've exhausted the possible cards, so the Update() process is getting closer to an answer.\n",
    "So maybe not the coolest problem, but it helped me get a firmer grasp of how Bayesian dynamics."
   ]
  },
  {
   "cell_type": "markdown",
   "metadata": {},
   "source": [
    "# Binomial and hypergeometric distributions\n",
    "Class work\n",
    "\n",
    "Suppose you have an urn that contains 30 red and 60 blue marbles.  If you draw 5 marbles at once (with, then without putting them back) what is the probability that 3 are blue?"
   ]
  },
  {
   "cell_type": "code",
   "execution_count": 21,
   "metadata": {
    "collapsed": false
   },
   "outputs": [
    {
     "name": "stdout",
     "output_type": "stream",
     "text": [
      "0.329218106996\n",
      "0.338701886912\n"
     ]
    }
   ],
   "source": [
    "from scipy.special import binom\n",
    "import scipy.stats\n",
    "\n",
    "print(scipy.stats.binom.pmf(3, 5, 2.0/3))\n",
    "print(scipy.stats.hypergeom.pmf(3, 90, 60, 5))"
   ]
  },
  {
   "cell_type": "markdown",
   "metadata": {},
   "source": [
    "Random question: \n",
    "Can you measure wether you have enough data by looking at the deviation in results from different sets of priors?\n",
    "What two sets of priors oppose each other as much as possible without touching 0?"
   ]
  },
  {
   "cell_type": "code",
   "execution_count": null,
   "metadata": {
    "collapsed": true
   },
   "outputs": [],
   "source": []
  },
  {
   "cell_type": "code",
   "execution_count": null,
   "metadata": {
    "collapsed": true
   },
   "outputs": [],
   "source": []
  },
  {
   "cell_type": "code",
   "execution_count": null,
   "metadata": {
    "collapsed": true
   },
   "outputs": [],
   "source": []
  },
  {
   "cell_type": "code",
   "execution_count": null,
   "metadata": {
    "collapsed": true
   },
   "outputs": [],
   "source": []
  }
 ],
 "metadata": {
  "kernelspec": {
   "display_name": "Python 2",
   "language": "python",
   "name": "python2"
  },
  "language_info": {
   "codemirror_mode": {
    "name": "ipython",
    "version": 2
   },
   "file_extension": ".py",
   "mimetype": "text/x-python",
   "name": "python",
   "nbconvert_exporter": "python",
   "pygments_lexer": "ipython2",
   "version": "2.7.6"
  }
 },
 "nbformat": 4,
 "nbformat_minor": 0
}
