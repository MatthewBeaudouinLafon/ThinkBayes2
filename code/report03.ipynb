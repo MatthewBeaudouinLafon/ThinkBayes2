{
 "cells": [
  {
   "cell_type": "markdown",
   "metadata": {},
   "source": [
    "# Report 03\n",
    "#### Matthew Beaudouin-Lafon"
   ]
  },
  {
   "cell_type": "code",
   "execution_count": 11,
   "metadata": {
    "collapsed": false
   },
   "outputs": [],
   "source": [
    "from __future__ import print_function, division\n",
    "\n",
    "% matplotlib inline\n",
    "import warnings\n",
    "warnings.filterwarnings('ignore')\n",
    "\n",
    "import math\n",
    "import numpy as np\n",
    "\n",
    "from thinkbayes2 import Pmf, Cdf, Suite, Joint, EvalNormalCdf, EvalNormalPdf, EvalBinomialPmf, EvalExponentialPdf\n",
    "import thinkplot\n",
    "\n",
    "from itertools import product"
   ]
  },
  {
   "cell_type": "markdown",
   "metadata": {},
   "source": [
    "## The Unreliable Amazon Seller Problem\n",
    "#### By Matthew Beaudouin-Lafon\n",
    "\n",
    "I bought an item on Amazon because it advertised an impressive lifetime of two years. However, I take a look at the reviews, notice three reviews which state that their item broke after 1.1 year, 2.6 years (a dedicated amazon reviewer!) and 0.7 years. When should I expect my item to break?"
   ]
  },
  {
   "cell_type": "markdown",
   "metadata": {},
   "source": [
    "##### Solution\n",
    "We can model the failure rate with the [Weibull Distribution](https://en.wikipedia.org/wiki/Weibull_distribution). \n",
    "Since we don't have a lot of data, we need to make an assumption in relation to the shape of the curve (defined by the parameter k). Without "
   ]
  },
  {
   "cell_type": "code",
   "execution_count": 12,
   "metadata": {
    "collapsed": false
   },
   "outputs": [],
   "source": [
    "class Amazon(Suite):\n",
    "    \n",
    "    def Likelihood(self, data, hypo):\n",
    "        \"\"\"\n",
    "        Parameters:\n",
    "            - data: lifetime of the item (in years)\n",
    "        \"\"\"\n",
    "        return EvalExponentialPdf(data, hypo)"
   ]
  },
  {
   "cell_type": "code",
   "execution_count": 43,
   "metadata": {
    "collapsed": false
   },
   "outputs": [],
   "source": [
    "amazon = Amazon(np.linspace(0, 10, 100)) # We assume that the average is between 0 and 5 years (with 100 samples)"
   ]
  },
  {
   "cell_type": "code",
   "execution_count": 44,
   "metadata": {
    "collapsed": false,
    "scrolled": true
   },
   "outputs": [
    {
     "data": {
      "text/plain": [
       "1.0033983253396261"
      ]
     },
     "execution_count": 44,
     "metadata": {},
     "output_type": "execute_result"
    }
   ],
   "source": [
    "amazon.Update(2) # Update only based off of the seller's information\n",
    "amazon.Mean()"
   ]
  },
  {
   "cell_type": "code",
   "execution_count": 45,
   "metadata": {
    "collapsed": false
   },
   "outputs": [
    {
     "data": {
      "text/plain": [
       "1.0000463383299767"
      ]
     },
     "execution_count": 45,
     "metadata": {},
     "output_type": "execute_result"
    }
   ],
   "source": [
    "# amazon.UpdateSet([1.1, 2.6, 0.7]) # Update based off of all reviews.\n",
    "amazon.Update(1)\n",
    "amazon.Mean()"
   ]
  },
  {
   "cell_type": "code",
   "execution_count": 42,
   "metadata": {
    "collapsed": false
   },
   "outputs": [
    {
     "data": {
      "image/png": "[encoded data removed]",
      "text/plain": [
       "<matplotlib.figure.Figure at 0x7fad435fe450>"
      ]
     },
     "metadata": {},
     "output_type": "display_data"
    }
   ],
   "source": [
    "thinkplot.Pdf(amazon)"
   ]
  },
  {
   "cell_type": "markdown",
   "metadata": {},
   "source": [
    "## Allergic Diner Problem\n",
    "#### From Think Bayes Chapter 5\n",
    "Suppose you are having a dinner party with 10 guests and 4 of them are allergic to cats. Because you have cats, you expect 50% of the allergic guests to sneeze during dinner. At the same time, you expect 10% of the non-allergic guests to sneeze. What is the distribution of the total number of guests who sneeze?"
   ]
  },
  {
   "cell_type": "code",
   "execution_count": 214,
   "metadata": {
    "collapsed": false
   },
   "outputs": [
    {
     "data": {
      "text/plain": [
       "[4, 4]"
      ]
     },
     "execution_count": 214,
     "metadata": {},
     "output_type": "execute_result"
    }
   ],
   "source": [
    "2 * [4]"
   ]
  },
  {
   "cell_type": "markdown",
   "metadata": {},
   "source": [
    "## GPS Problem \n",
    "#### From Think Bayes Chapter 9\n",
    "\n",
    "> GPS included a (currently disabled) feature called Selective Availability (SA) that adds intentional, time varying errors of up to 100 meters (328 ft) to the publicly available navigation signals. This was intended to deny an enemy the use of civilian GPS receivers for precision weapon guidance.\n",
    "> [...]\n",
    "> Before it was turned off on May 2, 2000, typical SA errors were about 50 m (164 ft) horizontally and about 100 m (328 ft) vertically.[10] Because SA affects every GPS receiver in a given area almost equally, a fixed station with an accurately known position can measure the SA error values and transmit them to the local GPS receivers so they may correct their position fixes. This is called Differential GPS or DGPS. DGPS also corrects for several other important sources of GPS errors, particularly ionospheric delay, so it continues to be widely used even though SA has been turned off. The ineffectiveness of SA in the face of widely available DGPS was a common argument for turning off SA, and this was finally done by order of President Clinton in 2000.\n",
    "\n",
    "Suppose it is 1 May 2000, and you are standing in a field that is 200m square.  You are holding a GPS unit that indicates that your location is 51m north and 15m west of a known reference point in the middle of the field.\n",
    "\n",
    "However, you know that each of these coordinates has been perturbed by a \"feature\" that adds random errors with mean 0 and standard deviation 30m.\n",
    "\n",
    "1) After taking one measurement, what should you believe about your position?\n",
    "\n",
    "Note: Since the intentional errors are independent, you could solve this problem independently for X and Y.  But we'll treat it as a two-dimensional problem, partly for practice and partly to see how we could extend the solution to handle dependent errors.\n",
    "\n",
    "You can start with the code in gps.py.\n",
    "\n",
    "2) Suppose that after one second the GPS updates your position and reports coordinates (48, 90).  What should you believe now?\n",
    "\n",
    "3) Suppose you take 8 more measurements and get:\n",
    "\n",
    "    (11.903060613102866, 19.79168669735705)\n",
    "    (77.10743601503178, 39.87062906535289)\n",
    "    (80.16596823095534, -12.797927542984425)\n",
    "    (67.38157493119053, 83.52841028148538)\n",
    "    (89.43965206875271, 20.52141889230797)\n",
    "    (58.794021026248245, 30.23054016065644)\n",
    "    (2.5844401241265302, 51.012041625783766)\n",
    "    (45.58108994142448, 3.5718287379754585)\n",
    "\n",
    "At this point, how certain are you about your location?"
   ]
  },
  {
   "cell_type": "code",
   "execution_count": 38,
   "metadata": {
    "collapsed": false
   },
   "outputs": [],
   "source": [
    "class GPS(Suite, Joint):\n",
    "    \"\"\"\n",
    "    Bayesian model for the GPS Problem. Inherits from Suite and Joint.\n",
    "    \"\"\"\n",
    "    \n",
    "    def Likelihood(self, data, hypo):\n",
    "        \"\"\"\n",
    "        Parameters:\n",
    "            - data: (x, y) tuple representing gps data\n",
    "            - hypo: (x, y) tuple representing hypothetical position\n",
    "        \n",
    "        Probability of the data under the hypothesis.\n",
    "        \"\"\"\n",
    "        x, y = hypo\n",
    "        gpsX, gpsY = data\n",
    "        \n",
    "        likeX = EvalNormalPdf(gpsX - x, 0, 30)\n",
    "        likeY = EvalNormalPdf(gpsY - y, 0, 30)\n",
    "        return likeX*likeY                       # The likelihoods are multiplied because x and y are independent variables\n",
    "\n",
    "xPos = range(0, 200)\n",
    "yPos = range(0, 200)\n",
    "gps = GPS(product(xPos, yPos))"
   ]
  },
  {
   "cell_type": "code",
   "execution_count": 39,
   "metadata": {
    "collapsed": false
   },
   "outputs": [
    {
     "data": {
      "text/plain": [
       "1.6683006153592209e-05"
      ]
     },
     "execution_count": 39,
     "metadata": {},
     "output_type": "execute_result"
    }
   ],
   "source": [
    "gps.Update((51, 15))"
   ]
  },
  {
   "cell_type": "code",
   "execution_count": 40,
   "metadata": {
    "collapsed": false
   },
   "outputs": [
    {
     "data": {
      "text/plain": [
       "2.727787826619526e-05"
      ]
     },
     "execution_count": 40,
     "metadata": {},
     "output_type": "execute_result"
    }
   ],
   "source": [
    "gps.Update((48, 90))"
   ]
  },
  {
   "cell_type": "code",
   "execution_count": 41,
   "metadata": {
    "collapsed": false
   },
   "outputs": [
    {
     "data": {
      "text/plain": [
       "7.3944260587465136e-35"
      ]
     },
     "execution_count": 41,
     "metadata": {},
     "output_type": "execute_result"
    }
   ],
   "source": [
    "gps.UpdateSet([(11.903060613102866, 19.79168669735705), \n",
    "(77.10743601503178, 39.87062906535289), \n",
    "(80.16596823095534, -12.797927542984425), \n",
    "(67.38157493119053, 83.52841028148538),\n",
    "(89.43965206875271, 20.52141889230797),\n",
    "(58.794021026248245, 30.23054016065644),\n",
    "(2.5844401241265302, 51.012041625783766),\n",
    "(45.58108994142448, 3.5718287379754585)])"
   ]
  },
  {
   "cell_type": "code",
   "execution_count": 63,
   "metadata": {
    "collapsed": false
   },
   "outputs": [
    {
     "name": "stdout",
     "output_type": "stream",
     "text": [
      "90% credible interval for x:  (38, 69)\n",
      "90% credible interval for y:  (18, 50)\n",
      "\n",
      "In other words, there's a 90% chance that we are at (53.5 +- 15.5, 34.0 +- 16.0)\n",
      "Since we are in a 200m square, the errors for x and y are 7.75% and 8.0% respectively.\n"
     ]
    },
    {
     "data": {
      "image/png": "[encoded data removed]",
      "text/plain": [
       "<matplotlib.figure.Figure at 0x7f216c9fd9d0>"
      ]
     },
     "metadata": {},
     "output_type": "display_data"
    }
   ],
   "source": [
    "thinkplot.Contour(gps, pcolor=True)\n",
    "credX = gps.Marginal(0).CredibleInterval()\n",
    "credY = gps.Marginal(1).CredibleInterval()\n",
    "print('90% credible interval for x: ', credX)\n",
    "print('90% credible interval for y: ', credY)\n",
    "likelyX = sum(credX) / 2.0\n",
    "likelyY = sum(credY) / 2.0\n",
    "errorX = credX[1] - likelyX\n",
    "errorY = credY[1] - likelyY\n",
    "print()\n",
    "print('In other words, there\\'s a 90% chance that we are at ({} +- {}, {} +- {})'\n",
    "      .format(likelyX, errorX, likelyY, errorY))\n",
    "print('Since we are in a 200m square, the errors for x and y are {}% and {}% respectively.'.format(errorX/2.0,errorY/2.0))"
   ]
  },
  {
   "cell_type": "markdown",
   "metadata": {},
   "source": [
    "## Lincoln Index Problem \n",
    "#### From John D. Cook\n",
    "\"Suppose you have a tester who finds 20 bugs in your program. You want to estimate how many bugs are really in the program. You know there are at least 20 bugs, and if you have supreme confidence in your tester, you may suppose there are around 20 bugs. But maybe your tester isn't very good. Maybe there are hundreds of bugs. How can you have any idea how many bugs there are? There’s no way to know with one tester. But if you have two testers, you can get a good idea, even if you don’t know how skilled the testers are.\n",
    "\n",
    "\"Suppose two testers independently search for bugs. Let k1 be the number of errors the first tester finds and k2 the number of errors the second tester finds. Let c be the number of errors both testers find. The Lincoln Index estimates the total number of errors as k1 k2 / c [I changed his notation to be consistent with mine].\"\n",
    "\n",
    "So if the first tester finds 20 bugs, the second finds 15, and they find 3 in common, we estimate that there are about 100 bugs. What is the Bayesian estimate of the number of errors based on this data?"
   ]
  },
  {
   "cell_type": "code",
   "execution_count": 253,
   "metadata": {
    "collapsed": false,
    "scrolled": true
   },
   "outputs": [
    {
     "name": "stdout",
     "output_type": "stream",
     "text": [
      "Tester 1 success rate: 0.399185, tester 2 success rate 0.600357, rate of redundant bugs found: 0.239646\n",
      "\n",
      " For any bug, we can consider a probability tree:\n",
      "\n",
      "    __  \n",
      "   /  \\  \n",
      "  F    N      Tester 1  \n",
      " /\\    /\\  \n",
      "F  N  F  N    Tester 2  \n",
      "^\n",
      "Both testers find the bug. Since they respectively have p1 and p2 probability of finding any bug, \n",
      "the probability they both find the bug is p1*p2.\n",
      "We can test this with the experimental data above: p1 * p2 = 0.399185 * 0.600357 = 0.239653509045, which is within 0.00313339049972% of the experiment.\n"
     ]
    }
   ],
   "source": [
    "# Forward problem: Given the probabilities and the number of bugs, \n",
    "p1 = 0.4 # Probability tester finds any given bug\n",
    "p2 = 0.6\n",
    "n = 100.0  # Number of bugs\n",
    "\n",
    "K1 = []\n",
    "K2 = []\n",
    "C = []\n",
    "\n",
    "for i in range(1000):\n",
    "    sample1 = np.random.random(size=n) < p1 # Number of bugs the tester finds\n",
    "    sample2 = np.random.random(size=n) < p2\n",
    "    k1 = np.sum(sample1) / n                # Bug finding rate\n",
    "    k2 = np.sum(sample2) / n\n",
    "    c = np.sum(sample1 & sample2) / n       # Bugs both testers found\n",
    "    K1.append(k1)\n",
    "    K2.append(k2)\n",
    "    C.append(c)\n",
    "\n",
    "t1 = sum(K1)/len(K1)\n",
    "t2 = sum(K2)/len(K2)\n",
    "c = sum(C)/len(C)\n",
    "print('Tester 1 success rate: {}, tester 2 success rate {}, rate of redundant bugs found: {}'\n",
    "      .format(t1, t2, c))\n",
    "print('\\n For any bug, we can consider a probability tree:')\n",
    "print('''\n",
    "    __  \n",
    "   /  \\  \n",
    "  F    N      Tester 1  \n",
    " /\\    /\\  \n",
    "F  N  F  N    Tester 2  \n",
    "^\n",
    "Both testers find the bug. Since they respectively have p1 and p2 probability of finding any bug, \n",
    "the probability they both find the bug is p1*p2.''')\n",
    "print('We can test this with the experimental data above: p1 * p2 = {} * {} = {}, which is within {}% of the experiment.'\n",
    "      .format(t1, t2, t1 * t2, 100*(t1*t2 - c) / c))"
   ]
  },
  {
   "cell_type": "code",
   "execution_count": 257,
   "metadata": {
    "collapsed": false
   },
   "outputs": [
    {
     "name": "stdout",
     "output_type": "stream",
     "text": [
      "[False]\n"
     ]
    }
   ],
   "source": [
    "class Lincoln(Suite, Joint):\n",
    "    \"\"\"\n",
    "    \n",
    "    \"\"\"\n",
    "    def Likelihood(self, data, hypo):\n",
    "        \"\"\"\n",
    "        data: k1, k2, c\n",
    "        hypo: n, p1, p2\n",
    "        \"\"\"\n",
    "        k1, k2, c = data\n",
    "        n, p1, p2 = hypo\n",
    "        like1 = EvalBinomialPmf(k1, p1, n)\n",
    "        like2 = EvalBinomialPmf(k2, p2, n)\n",
    "        likeC = EvalBinomialPmf(c, p1, n) * EvalBinomialPmf(c, p2, n)\n",
    "        return like1 * like2 * likeC\n",
    "    \n",
    "numSamples = 10.0\n",
    "P1 = [i/numSamples in range(int(numSamples))]\n",
    "P2 = [i/numSamples in range(int(numSamples))]\n",
    "N = np.linspace(20, 100, 10)\n",
    "print(P1)\n",
    "\n",
    "lincoln = Lincoln(product(P1, P2, N))"
   ]
  },
  {
   "cell_type": "code",
   "execution_count": 256,
   "metadata": {
    "collapsed": false
   },
   "outputs": [
    {
     "ename": "ValueError",
     "evalue": "Normalize: total probability is zero.",
     "output_type": "error",
     "traceback": [
      "\u001b[0;31m---------------------------------------------------------------------------\u001b[0m",
      "\u001b[0;31mValueError\u001b[0m                                Traceback (most recent call last)",
      "\u001b[0;32m<ipython-input-256-29d10a58775d>\u001b[0m in \u001b[0;36m<module>\u001b[0;34m()\u001b[0m\n\u001b[0;32m----> 1\u001b[0;31m \u001b[0mlincoln\u001b[0m\u001b[0;34m.\u001b[0m\u001b[0mUpdate\u001b[0m\u001b[0;34m(\u001b[0m\u001b[0;34m(\u001b[0m\u001b[0;36m20\u001b[0m\u001b[0;34m,\u001b[0m \u001b[0;36m15\u001b[0m\u001b[0;34m,\u001b[0m \u001b[0;36m3\u001b[0m\u001b[0;34m)\u001b[0m\u001b[0;34m)\u001b[0m\u001b[0;34m\u001b[0m\u001b[0m\n\u001b[0m",
      "\u001b[0;32m/mnt/d/dev/Olin/ThinkBayes2/code/thinkbayes2.pyc\u001b[0m in \u001b[0;36mUpdate\u001b[0;34m(self, data)\u001b[0m\n\u001b[1;32m   1392\u001b[0m             \u001b[0mlike\u001b[0m \u001b[0;34m=\u001b[0m \u001b[0mself\u001b[0m\u001b[0;34m.\u001b[0m\u001b[0mLikelihood\u001b[0m\u001b[0;34m(\u001b[0m\u001b[0mdata\u001b[0m\u001b[0;34m,\u001b[0m \u001b[0mhypo\u001b[0m\u001b[0;34m)\u001b[0m\u001b[0;34m\u001b[0m\u001b[0m\n\u001b[1;32m   1393\u001b[0m             \u001b[0mself\u001b[0m\u001b[0;34m.\u001b[0m\u001b[0mMult\u001b[0m\u001b[0;34m(\u001b[0m\u001b[0mhypo\u001b[0m\u001b[0;34m,\u001b[0m \u001b[0mlike\u001b[0m\u001b[0;34m)\u001b[0m\u001b[0;34m\u001b[0m\u001b[0m\n\u001b[0;32m-> 1394\u001b[0;31m         \u001b[0;32mreturn\u001b[0m \u001b[0mself\u001b[0m\u001b[0;34m.\u001b[0m\u001b[0mNormalize\u001b[0m\u001b[0;34m(\u001b[0m\u001b[0;34m)\u001b[0m\u001b[0;34m\u001b[0m\u001b[0m\n\u001b[0m\u001b[1;32m   1395\u001b[0m \u001b[0;34m\u001b[0m\u001b[0m\n\u001b[1;32m   1396\u001b[0m     \u001b[0;32mdef\u001b[0m \u001b[0mLogUpdate\u001b[0m\u001b[0;34m(\u001b[0m\u001b[0mself\u001b[0m\u001b[0;34m,\u001b[0m \u001b[0mdata\u001b[0m\u001b[0;34m)\u001b[0m\u001b[0;34m:\u001b[0m\u001b[0;34m\u001b[0m\u001b[0m\n",
      "\u001b[0;32m/mnt/d/dev/Olin/ThinkBayes2/code/thinkbayes2.pyc\u001b[0m in \u001b[0;36mNormalize\u001b[0;34m(self, fraction)\u001b[0m\n\u001b[1;32m    516\u001b[0m         \u001b[0mtotal\u001b[0m \u001b[0;34m=\u001b[0m \u001b[0mself\u001b[0m\u001b[0;34m.\u001b[0m\u001b[0mTotal\u001b[0m\u001b[0;34m(\u001b[0m\u001b[0;34m)\u001b[0m\u001b[0;34m\u001b[0m\u001b[0m\n\u001b[1;32m    517\u001b[0m         \u001b[0;32mif\u001b[0m \u001b[0mtotal\u001b[0m \u001b[0;34m==\u001b[0m \u001b[0;36m0\u001b[0m\u001b[0;34m:\u001b[0m\u001b[0;34m\u001b[0m\u001b[0m\n\u001b[0;32m--> 518\u001b[0;31m             \u001b[0;32mraise\u001b[0m \u001b[0mValueError\u001b[0m\u001b[0;34m(\u001b[0m\u001b[0;34m'Normalize: total probability is zero.'\u001b[0m\u001b[0;34m)\u001b[0m\u001b[0;34m\u001b[0m\u001b[0m\n\u001b[0m\u001b[1;32m    519\u001b[0m \u001b[0;34m\u001b[0m\u001b[0m\n\u001b[1;32m    520\u001b[0m         \u001b[0mfactor\u001b[0m \u001b[0;34m=\u001b[0m \u001b[0mfraction\u001b[0m \u001b[0;34m/\u001b[0m \u001b[0mtotal\u001b[0m\u001b[0;34m\u001b[0m\u001b[0m\n",
      "\u001b[0;31mValueError\u001b[0m: Normalize: total probability is zero."
     ]
    }
   ],
   "source": [
    "lincoln.Update((20, 15, 3))"
   ]
  },
  {
   "cell_type": "code",
   "execution_count": 92,
   "metadata": {
    "collapsed": false,
    "scrolled": true
   },
   "outputs": [
    {
     "ename": "ValueError",
     "evalue": "too many values to unpack",
     "output_type": "error",
     "traceback": [
      "\u001b[0;31m---------------------------------------------------------------------------\u001b[0m",
      "\u001b[0;31mValueError\u001b[0m                                Traceback (most recent call last)",
      "\u001b[0;32m<ipython-input-92-9e9e9f674f7b>\u001b[0m in \u001b[0;36m<module>\u001b[0;34m()\u001b[0m\n\u001b[0;32m----> 1\u001b[0;31m \u001b[0mthinkplot\u001b[0m\u001b[0;34m.\u001b[0m\u001b[0mContour\u001b[0m\u001b[0;34m(\u001b[0m\u001b[0mlincoln\u001b[0m\u001b[0;34m)\u001b[0m\u001b[0;34m\u001b[0m\u001b[0m\n\u001b[0m",
      "\u001b[0;32m/mnt/d/dev/Olin/ThinkBayes2/code/thinkplot.pyc\u001b[0m in \u001b[0;36mContour\u001b[0;34m(obj, pcolor, contour, imshow, **options)\u001b[0m\n\u001b[1;32m    552\u001b[0m     \u001b[0m_Underride\u001b[0m\u001b[0;34m(\u001b[0m\u001b[0moptions\u001b[0m\u001b[0;34m,\u001b[0m \u001b[0mlinewidth\u001b[0m\u001b[0;34m=\u001b[0m\u001b[0;36m3\u001b[0m\u001b[0;34m,\u001b[0m \u001b[0mcmap\u001b[0m\u001b[0;34m=\u001b[0m\u001b[0mmatplotlib\u001b[0m\u001b[0;34m.\u001b[0m\u001b[0mcm\u001b[0m\u001b[0;34m.\u001b[0m\u001b[0mBlues\u001b[0m\u001b[0;34m)\u001b[0m\u001b[0;34m\u001b[0m\u001b[0m\n\u001b[1;32m    553\u001b[0m \u001b[0;34m\u001b[0m\u001b[0m\n\u001b[0;32m--> 554\u001b[0;31m     \u001b[0mxs\u001b[0m\u001b[0;34m,\u001b[0m \u001b[0mys\u001b[0m \u001b[0;34m=\u001b[0m \u001b[0mzip\u001b[0m\u001b[0;34m(\u001b[0m\u001b[0;34m*\u001b[0m\u001b[0md\u001b[0m\u001b[0;34m.\u001b[0m\u001b[0mkeys\u001b[0m\u001b[0;34m(\u001b[0m\u001b[0;34m)\u001b[0m\u001b[0;34m)\u001b[0m\u001b[0;34m\u001b[0m\u001b[0m\n\u001b[0m\u001b[1;32m    555\u001b[0m     \u001b[0mxs\u001b[0m \u001b[0;34m=\u001b[0m \u001b[0msorted\u001b[0m\u001b[0;34m(\u001b[0m\u001b[0mset\u001b[0m\u001b[0;34m(\u001b[0m\u001b[0mxs\u001b[0m\u001b[0;34m)\u001b[0m\u001b[0;34m)\u001b[0m\u001b[0;34m\u001b[0m\u001b[0m\n\u001b[1;32m    556\u001b[0m     \u001b[0mys\u001b[0m \u001b[0;34m=\u001b[0m \u001b[0msorted\u001b[0m\u001b[0;34m(\u001b[0m\u001b[0mset\u001b[0m\u001b[0;34m(\u001b[0m\u001b[0mys\u001b[0m\u001b[0;34m)\u001b[0m\u001b[0;34m)\u001b[0m\u001b[0;34m\u001b[0m\u001b[0m\n",
      "\u001b[0;31mValueError\u001b[0m: too many values to unpack"
     ]
    }
   ],
   "source": [
    "thinkplot.Contour(lincoln)"
   ]
  },
  {
   "cell_type": "markdown",
   "metadata": {},
   "source": [
    "## Flea Beettle Problem\n",
    "#### From [DASL](http://lib.stat.cmu.edu/DASL/Datafiles/FleaBeetles.html)\n",
    "Datafile Name: Flea Beetles\n",
    "\n",
    "Datafile Subjects: Biology\n",
    "\n",
    "Story Names: Flea Beetles\n",
    "\n",
    "Reference: Lubischew, A.A. (1962) On the use of discriminant functions in taxonomy. Biometrics, 18, 455-477. Also found in: Hand, D.J., et al. (1994) A Handbook of Small Data Sets, London: Chapman & Hall, 254-255.\n",
    "\n",
    "Authorization: Contact Authors\n",
    "\n",
    "Description: Data were collected on the genus of flea beetle Chaetocnema, which contains three species: concinna (Con), heikertingeri (Hei), and heptapotamica (Hep). Measurements were made on the width and angle of the aedeagus of each beetle. The goal of the original study was to form a classification rule to distinguish the three species.\n",
    "\n",
    "Number of cases: 74\n",
    "\n",
    "Variable Names:\n",
    "\n",
    "Width: The maximal width of aedeagus in the forpart (in microns)\n",
    "\n",
    "Angle: The front angle of the aedeagus (1 unit = 7.5 degrees)\n",
    "\n",
    "Species: Species of flea beetle from the genus Chaetocnema"
   ]
  },
  {
   "cell_type": "markdown",
   "metadata": {},
   "source": [
    "## The Manufacturer Failure Rate Problem\n",
    "#### By Matthew Beaudouin-Lafon\n",
    "You've created a product and are trying to determine its failure rate. With the following data,  "
   ]
  },
  {
   "cell_type": "code",
   "execution_count": 254,
   "metadata": {
    "collapsed": false
   },
   "outputs": [
    {
     "data": {
      "text/plain": [
       "array([  20.,   40.,   60.,   80.,  100.,  120.,  140.,  160.,  180.,  200.])"
      ]
     },
     "execution_count": 254,
     "metadata": {},
     "output_type": "execute_result"
    }
   ],
   "source": [
    "np.linspace(20,200,10)\n"
   ]
  },
  {
   "cell_type": "code",
   "execution_count": null,
   "metadata": {
    "collapsed": true
   },
   "outputs": [],
   "source": []
  }
 ],
 "metadata": {
  "kernelspec": {
   "display_name": "Python 2",
   "language": "python",
   "name": "python2"
  },
  "language_info": {
   "codemirror_mode": {
    "name": "ipython",
    "version": 2
   },
   "file_extension": ".py",
   "mimetype": "text/x-python",
   "name": "python",
   "nbconvert_exporter": "python",
   "pygments_lexer": "ipython2",
   "version": "2.7.6"
  }
 },
 "nbformat": 4,
 "nbformat_minor": 0
}
